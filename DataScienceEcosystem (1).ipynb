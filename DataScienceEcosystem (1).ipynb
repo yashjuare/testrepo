{
 "cells": [
  {
   "cell_type": "markdown",
   "id": "0592c2b0-03ed-40c7-8168-012f85b0821b",
   "metadata": {},
   "source": [
    "# Data Science Tools and Ecosystem"
   ]
  },
  {
   "cell_type": "markdown",
   "id": "a82ac198-f08a-400a-8662-e1fc8ec21aec",
   "metadata": {},
   "source": [
    "In this notebook, Data Science Tools and Ecosystem are summarized"
   ]
  },
  {
   "cell_type": "markdown",
   "id": "0bfca574-bc4b-4481-a271-51ed0288240d",
   "metadata": {},
   "source": [
    "**Objectives:**\n",
    "- AnaConda\n",
    "- Jupyterlab\n",
    "- Python"
   ]
  },
  {
   "cell_type": "markdown",
   "id": "db92feb9-e1f6-4902-92f2-6d2d8e534309",
   "metadata": {},
   "source": [
    "Some of the popular languages that Data Scientists use are:\n",
    "1. Python\n",
    "2. R\n",
    "3. SAS\n",
    "## Author\n",
    "Sacha Gobbo"
   ]
  },
  {
   "cell_type": "markdown",
   "id": "fcc50494-fb7e-4795-8a8f-0deddbb3f6ad",
   "metadata": {},
   "source": [
    "Some of the commonly used libraries used by Data Scientists include:\n",
    "1. Sckit\n",
    "2. Numpy\n",
    "3. Pandas"
   ]
  },
  {
   "cell_type": "markdown",
   "id": "3f985fa0-69b1-40f0-a1a6-9bf4672cfce0",
   "metadata": {},
   "source": [
    "Data Science Tools\n",
    "| Data Science Tools | \n",
    "| --- | \n",
    "| Apache Hadoop |\n",
    "| Apache Spark |\n",
    "| Apache Flink |"
   ]
  },
  {
   "cell_type": "markdown",
   "id": "b3b20224-51c0-4bac-bca2-43ada7c87a52",
   "metadata": {},
   "source": [
    "### Below are a few examples of evaluating arithmetic expressions in Python"
   ]
  },
  {
   "cell_type": "code",
   "execution_count": 2,
   "id": "943a261a-108f-4495-ba9b-09ef7b9559e8",
   "metadata": {},
   "outputs": [
    {
     "data": {
      "text/plain": [
       "17"
      ]
     },
     "execution_count": 2,
     "metadata": {},
     "output_type": "execute_result"
    }
   ],
   "source": [
    "#This a simple arithmetic expression to mutiply then add integers\n",
    "(3*4)+5"
   ]
  },
  {
   "cell_type": "code",
   "execution_count": 3,
   "id": "e798786e-fbc2-4878-a98b-50cb888fdaf1",
   "metadata": {},
   "outputs": [
    {
     "data": {
      "text/plain": [
       "3.3333333333333335"
      ]
     },
     "execution_count": 3,
     "metadata": {},
     "output_type": "execute_result"
    }
   ],
   "source": [
    "#This will convert 200 minutes to hours by diving by 60\n",
    "200/60"
   ]
  }
 ],
 "metadata": {
  "kernelspec": {
   "display_name": "Python 3 (ipykernel)",
   "language": "python",
   "name": "python3"
  },
  "language_info": {
   "codemirror_mode": {
    "name": "ipython",
    "version": 3
   },
   "file_extension": ".py",
   "mimetype": "text/x-python",
   "name": "python",
   "nbconvert_exporter": "python",
   "pygments_lexer": "ipython3",
   "version": "3.11.10"
  }
 },
 "nbformat": 4,
 "nbformat_minor": 5
}
